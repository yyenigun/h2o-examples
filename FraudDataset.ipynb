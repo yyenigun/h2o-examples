{
 "cells": [
  {
   "cell_type": "code",
   "execution_count": 4,
   "metadata": {
    "collapsed": false
   },
   "outputs": [
    {
     "name": "stdout",
     "output_type": "stream",
     "text": [
      "Checking whether there is an H2O instance running at http://localhost:54321. connected.\n",
      "Warning: Your H2O cluster version is too old (5 months and 4 days)! Please download and install the latest version from http://h2o.ai/download/\n"
     ]
    },
    {
     "data": {
      "text/html": [
       "<div style=\"overflow:auto\"><table style=\"width:50%\"><tr><td>H2O cluster uptime:</td>\n",
       "<td>38 mins 21 secs</td></tr>\n",
       "<tr><td>H2O cluster version:</td>\n",
       "<td>3.10.5.2</td></tr>\n",
       "<tr><td>H2O cluster version age:</td>\n",
       "<td>5 months and 4 days !!!</td></tr>\n",
       "<tr><td>H2O cluster name:</td>\n",
       "<td>yalcin.yenigun</td></tr>\n",
       "<tr><td>H2O cluster total nodes:</td>\n",
       "<td>1</td></tr>\n",
       "<tr><td>H2O cluster free memory:</td>\n",
       "<td>1.576 Gb</td></tr>\n",
       "<tr><td>H2O cluster total cores:</td>\n",
       "<td>4</td></tr>\n",
       "<tr><td>H2O cluster allowed cores:</td>\n",
       "<td>4</td></tr>\n",
       "<tr><td>H2O cluster status:</td>\n",
       "<td>locked, healthy</td></tr>\n",
       "<tr><td>H2O connection url:</td>\n",
       "<td>http://localhost:54321</td></tr>\n",
       "<tr><td>H2O connection proxy:</td>\n",
       "<td>None</td></tr>\n",
       "<tr><td>H2O internal security:</td>\n",
       "<td>False</td></tr>\n",
       "<tr><td>Python version:</td>\n",
       "<td>3.5.2 final</td></tr></table></div>"
      ],
      "text/plain": [
       "--------------------------  -----------------------\n",
       "H2O cluster uptime:         38 mins 21 secs\n",
       "H2O cluster version:        3.10.5.2\n",
       "H2O cluster version age:    5 months and 4 days !!!\n",
       "H2O cluster name:           yalcin.yenigun\n",
       "H2O cluster total nodes:    1\n",
       "H2O cluster free memory:    1.576 Gb\n",
       "H2O cluster total cores:    4\n",
       "H2O cluster allowed cores:  4\n",
       "H2O cluster status:         locked, healthy\n",
       "H2O connection url:         http://localhost:54321\n",
       "H2O connection proxy:\n",
       "H2O internal security:      False\n",
       "Python version:             3.5.2 final\n",
       "--------------------------  -----------------------"
      ]
     },
     "metadata": {},
     "output_type": "display_data"
    },
    {
     "name": "stdout",
     "output_type": "stream",
     "text": [
      "Parse progress: |█████████████████████████████████████████████████████████| 100%\n"
     ]
    }
   ],
   "source": [
    "from h2o import h2o\n",
    "\n",
    "h2o.init()\n",
    "h2o.remove_all()\n",
    "\n",
    "fraud_data_frame = h2o.import_file(path=\"/Users/yalcin.yenigun/Documents/GDG/creditcard.csv\")"
   ]
  },
  {
   "cell_type": "code",
   "execution_count": 5,
   "metadata": {
    "collapsed": false
   },
   "outputs": [
    {
     "name": "stdout",
     "output_type": "stream",
     "text": [
      "drf Model Build progress: |███████████████████████████████████████████████| 100%\n"
     ]
    }
   ],
   "source": [
    "random_forest_model = h2o.H2ORandomForestEstimator(\n",
    "    model_id=\"FraudDetectionModel\",\n",
    "    ntrees=10,\n",
    "    max_depth=5,\n",
    "    min_rows=4,\n",
    "    nfolds=10\n",
    ")\n",
    "\n",
    "# categorical features\n",
    "categorical_feature_columns = [\n",
    "    'Class'\n",
    "]\n",
    "\n",
    "fraud_data_frame[categorical_feature_columns] = fraud_data_frame[categorical_feature_columns].asfactor()\n",
    "\n",
    "continuous_feature_columns = [\n",
    "    'V1',\n",
    "    'V2',\n",
    "    'V3',\n",
    "    'V4',\n",
    "    'V5',\n",
    "    'V6',\n",
    "    'V7',\n",
    "    'V8',\n",
    "    'V9',\n",
    "    'V10',\n",
    "    'Amount'\n",
    "]\n",
    "\n",
    "random_forest_model.train(x=continuous_feature_columns,\n",
    "                          y='Class',\n",
    "                          training_frame=fraud_data_frame)"
   ]
  }
 ],
 "metadata": {
  "anaconda-cloud": {},
  "kernelspec": {
   "display_name": "Python [conda root]",
   "language": "python",
   "name": "conda-root-py"
  },
  "language_info": {
   "codemirror_mode": {
    "name": "ipython",
    "version": 3
   },
   "file_extension": ".py",
   "mimetype": "text/x-python",
   "name": "python",
   "nbconvert_exporter": "python",
   "pygments_lexer": "ipython3",
   "version": "3.5.2"
  }
 },
 "nbformat": 4,
 "nbformat_minor": 1
}
